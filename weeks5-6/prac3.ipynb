{
 "cells": [
  {
   "cell_type": "markdown",
   "metadata": {},
   "source": [
    "# Introduction to Artificial Intelligence for Non Computing"
   ]
  },
  {
   "cell_type": "markdown",
   "metadata": {},
   "source": [
    "## Practical 3 (weeks 5 - 6)"
   ]
  },
  {
   "cell_type": "markdown",
   "metadata": {},
   "source": [
    "The following links provide additional information about data analysis , machine learning and Numpy"
   ]
  },
  {
   "cell_type": "markdown",
   "metadata": {},
   "source": [
    "Python data analysis: https://www.imooc.com/learn/843\n",
    "machine learning: https://www.imooc.com/learn/717\n",
    "Numpy :https://www.imooc.com/learn/943"
   ]
  },
  {
   "cell_type": "markdown",
   "metadata": {},
   "source": [
    "#### Theory Questions"
   ]
  },
  {
   "cell_type": "markdown",
   "metadata": {},
   "source": [
    "1\\.Which of the following are true and which are false? Give brief explanations.\n",
    "- a. In a fully observable, turn-taking, zero-sum game between two perfectly rational players,it does not help the first player to know what strategy the second player is using—that is, what move the second player will make, given the first player's move.\n",
    "- b. In a partially observable, turn-taking, zero-sum game between two perfectly rational players, it does not help the first player to know what move the second player will make, given the first player's move.\n",
    "- c. A perfectly rational backgammon agent never loses.\n",
    "\n",
    "See textbook Chapter6 24.6"
   ]
  },
  {
   "cell_type": "markdown",
   "metadata": {},
   "source": [
    "a. 正确 第一个玩家会假设第二个玩家会采取对第一个玩家最不利的行为\n",
    "b. 错误 第一个玩家只有知道了第二个玩家如何行动才能决定自己如何行动\n",
    "c. 错误 只在大多数情况下会赢（但依然可能输）"
   ]
  },
  {
   "cell_type": "markdown",
   "metadata": {},
   "source": [
    "2\\.Define in your own words the terms constraint, backtracking search, arc consistency,backjumping, min-conflicts, and cycle cutset.\n",
    "\n",
    "See textbook Chapter6 6.16"
   ]
  },
  {
   "cell_type": "markdown",
   "metadata": {},
   "source": []
  },
  {
   "cell_type": "markdown",
   "metadata": {},
   "source": [
    "3\\.Explain why it is a good heuristic to choose the variable that is most constrained but the value that is least constraining in a CSP search.\n",
    "\n",
    "See textbook Chapter6 6.9"
   ]
  },
  {
   "cell_type": "markdown",
   "metadata": {},
   "source": [
    "当我们选择了最高约束的变量以后 我们就能决定如何降低复杂度 但是我们也需要选择最低约束的值来确保CSP搜索能尽可能的进行"
   ]
  },
  {
   "cell_type": "markdown",
   "metadata": {},
   "source": [
    "4\\.Consider the following procedure for choosing moves in games with chance nodes: \n",
    "- 1、Generate some dice-roll sequences (say, 50) down to a suitable depth (say, 8).\n",
    "- 2、With known dice rolls, the game tree becomes deterministic. For each dice-roll sequence,solve the resulting deterministic game tree using alpha-beta.\n",
    "- 3、Use the results to estimate the value of each move and to choose the best.Will this procedure work well? Why (or why not)?\n",
    "\n",
    "See textbook Chapter5 5.19"
   ]
  },
  {
   "cell_type": "markdown",
   "metadata": {},
   "source": [
    "这种策略不好 因为没有两个对手关系 alpha-beta搜索最大效用将趋于正无穷"
   ]
  },
  {
   "cell_type": "markdown",
   "metadata": {},
   "source": [
    "5\\. Now,please consider this game:  there are three plates A, B and C, each plate has three bills. A puts 1, 20, 50; B puts 5, 10, 100; C puts 1, 5, 20. All units are \"Yuan\". There are two persons A and B, and two of them can check out three plates and banknotes .（ A is ourself, The other is B）\n",
    "The game is divided into three steps: \n",
    "- 1、A select a plate from three plate.\n",
    "- 2、B take out two banknotes from A selected plate,and give the  banknotes to A.  \n",
    "- 3、A take one of the two banknotes, and take it away.among,A want to get the max banknotes, B want to let A to get the min.\n",
    "\n",
    "Try to understand the minimax algorithm，you can click the link:https://blog.csdn.net/tangchenyi/article/details/22920031"
   ]
  },
  {
   "cell_type": "markdown",
   "metadata": {},
   "source": [
    "A选择A盘 B选择1 20 A得20 B选择1 50 A得50 B选择20 50 A得50\n",
    "A选择B盘 B选择5 10 A得10 B选择10 100 A得100 B选择5 100 A得100\n",
    "A选择C盘 B选择1 5 A得5 B选择1"
   ]
  },
  {
   "cell_type": "markdown",
   "metadata": {},
   "source": [
    "### Programming Excercises"
   ]
  },
  {
   "cell_type": "markdown",
   "metadata": {},
   "source": [
    "1\\. Guess number(Single number): please generate a randomly number  with the function (random), then ask someone to guess the number,I think we should give the corresponding hint, otherwise it will be very difficult to guess the number.the game will be over untill you get the right number."
   ]
  },
  {
   "cell_type": "code",
   "execution_count": 4,
   "metadata": {},
   "outputs": [
    {
     "name": "stdout",
     "output_type": "stream",
     "text": [
      "请输入一个1到10以内的整数5\n",
      "输入数过大\n",
      "请输入一个1到10以内的整数3\n",
      "猜测成功 游戏结束\n"
     ]
    }
   ],
   "source": [
    "import random\n",
    "\n",
    "def game() :\n",
    "    answer = random.randint(1,11)\n",
    "    guess = 0\n",
    "    while guess != answer :\n",
    "        guess = int(input(\"请输入一个1到10以内的整数\"))\n",
    "        if guess > answer :\n",
    "            print(\"输入数过大\")\n",
    "        elif guess < answer :\n",
    "            print(\"输入数过小\")\n",
    "        else :\n",
    "            break\n",
    "    print(\"猜测成功 游戏结束\")\n",
    "\n",
    "game()"
   ]
  },
  {
   "cell_type": "markdown",
   "metadata": {},
   "source": [
    "2\\.if you had understand the guess single number games,Congratulates,next is the guess three number games,Maybe you can do it well.But this is a different way of thinking. \n",
    "first : we need generate three numbers,there are most ten times chances give  you to guess the number,of course,we also give you some cue.\n",
    "\n",
    "- 'When I say:-->It means:\n",
    "- 'error--> The 3 numbers are not in the mystical numbers.'\n",
    "- 'Only the number is correct --> the number is right , but the position is not right.'\n",
    "- 'Absolutely right--> numbers is right and the position also right.'\n",
    "\n",
    "Maybe it's better for you to understand the rule well through see the picture.\n",
    "<div style=\"float:left;\" ><img src=\"img/p1.png\" width=\"400\" height=\"300\" >"
   ]
  },
  {
   "cell_type": "code",
   "execution_count": 1,
   "metadata": {},
   "outputs": [
    {
     "name": "stdout",
     "output_type": "stream",
     "text": [
      "This is the 1 times : 321\n",
      "['Absolutely right', 'error', 'error']\n",
      "This is the 2 times : 541\n",
      "['error', 'Absolutely right', 'error']\n",
      "This is the 3 times : 346\n",
      "['Absolutely right', 'Absolutely right', 'error']\n",
      "This is the 4 times : 347\n",
      "['Absolutely right', 'Absolutely right', 'error']\n",
      "This is the 5 times : 348\n",
      "Congratulations\n",
      "Do you want to play again? (yes or no)no\n"
     ]
    }
   ],
   "source": [
    "import random\n",
    "\n",
    "def game() :\n",
    "    game_map = [\"error\", \"Only the number is correct\", \"Absolutely right\"]\n",
    "    answer_list = [random.randint(1,11), random.randint(1,11), random.randint(1,11)]\n",
    "    isGood = False\n",
    "    time = 1\n",
    "    \n",
    "    while time <= 10 :\n",
    "        state_list = []\n",
    "        guess = input(\"This is the \" + str(time) + \" times : \")\n",
    "        if int(guess) > 999 or int(guess) < 100 :\n",
    "            print(\"Input error\")\n",
    "            continue\n",
    "        guess_list =  [int(guess[0 : 1]), int(guess[1 : 2]), int(guess[2 : 3])] \n",
    "        for num in range(3) :\n",
    "            if guess_list[num] == answer_list[0] or guess_list[num] == answer_list[1] or guess_list[num] == answer_list[2] :\n",
    "                if guess_list[num] == answer_list[num] :\n",
    "                    state_list.append(2)\n",
    "                else :\n",
    "                    state_list.append(1)\n",
    "            else :\n",
    "                state_list.append(0)\n",
    "        if state_list[0] == 2 and state_list[1] == 2 and state_list[2] == 2 :\n",
    "            print(\"Congratulations\")\n",
    "            isGood = True\n",
    "            break\n",
    "        else :\n",
    "            for num in range(3) :\n",
    "                state_list[num] = game_map[state_list[num]]\n",
    "            print(state_list)\n",
    "        time += 1\n",
    "    if isGood == False :\n",
    "        print(\"Bad luck!\")\n",
    "    isRestart = input(\"Do you want to play again? (yes or no)\")\n",
    "    if isRestart == \"yes\" :\n",
    "        game()\n",
    "\n",
    "game()"
   ]
  },
  {
   "cell_type": "markdown",
   "metadata": {},
   "source": [
    "3\\.please try using Python's Tkinter to make a visual interface（GUI）.if you don't know anything.Maybe you can refer to the below interface.and implement it by code.\n",
    "\n",
    "<div style=\"float:left;\" ><img src=\"img/p2.png\" width=\"200\" height=\"200\" >"
   ]
  },
  {
   "cell_type": "code",
   "execution_count": 2,
   "metadata": {},
   "outputs": [],
   "source": [
    "#这是一个之前写的小项目的一部分，如果运行之后没有显示，可以拉大框体来解决，因为部分构件可能被隐藏\n",
    "\n",
    "from tkinter import *\n",
    "\n",
    "def button() :\n",
    "    if var.get() != \"\" :\n",
    "        text.insert(END,\"Paul : \" + var.get() + \"\\n\")\n",
    "        global count\n",
    "        count = 1\n",
    "\n",
    "root = Tk()\n",
    "root.title(\"私人聊天室\")\n",
    "root.geometry(\"585x350\")\n",
    "root.resizable(width = True, height = True)\n",
    "var = StringVar()\n",
    "entry = Entry(root, width = 60, textvariable = var)\n",
    "entry.grid(row = 5, column = 0, columnspan = 6)\n",
    "Button(root,text = \"发送\", command = button).grid(row = 5, column = 6, columnspan = 2)\n",
    "scrl = Scrollbar(root)\n",
    "scrl.set(0.5,1)\n",
    "scrl.grid(row = 0, column = 8, rowspan = 5)\n",
    "text = Text(root)\n",
    "text.configure(yscrollcommand = scrl.set)\n",
    "text.grid(row = 0, column = 0, rowspan = 5, columnspan = 7)\n",
    "scrl[\"command\"] = text.yview\n",
    "root.mainloop()"
   ]
  },
  {
   "cell_type": "markdown",
   "metadata": {},
   "source": [
    "4\\.Through the initial trial of Tkinter,    please write a simple calculator.\n",
    "\n",
    "<div style=\"float:left;\" ><img src=\"img/p3.png\" width=\"180\" height=\"200\" center=\"left\"></div>\n",
    "<div style=\"float:left;\" ><img src=\"img/p4.png\" width=\"180\" height=\"200\" center=\"right\" ></div>"
   ]
  },
  {
   "cell_type": "code",
   "execution_count": 22,
   "metadata": {},
   "outputs": [],
   "source": [
    "from tkinter import *\n",
    "\n",
    "cal_value = \"\"\n",
    "value = \"\"\n",
    "operator = \"null\"\n",
    "\n",
    "def button0():\n",
    "    global value\n",
    "    value = value + \"0\"\n",
    "    text.delete('1.0', END)\n",
    "    text.insert(END, value)\n",
    "\n",
    "\n",
    "def button1():\n",
    "    global value\n",
    "    value = value + \"1\"\n",
    "    text.delete('1.0', END)\n",
    "    text.insert(END, value)\n",
    "\n",
    "def button2():\n",
    "    global value\n",
    "    value = value + \"2\"\n",
    "    text.delete('1.0', END)\n",
    "    text.insert(END, value)\n",
    "\n",
    "\n",
    "def button3():\n",
    "    global value\n",
    "    value = value + \"3\"\n",
    "    text.delete('1.0', END)\n",
    "    text.insert(END, value)\n",
    "\n",
    "\n",
    "def button4():\n",
    "    global value\n",
    "    value = value + \"4\"\n",
    "    text.delete('1.0', END)\n",
    "    text.insert(END, value)\n",
    "\n",
    "\n",
    "def button5():\n",
    "    global value\n",
    "    value = value + \"5\"\n",
    "    text.delete('1.0', END)\n",
    "    text.insert(END, value)\n",
    "\n",
    "\n",
    "def button6():\n",
    "    global value\n",
    "    value = value + \"6\"\n",
    "    text.delete('1.0', END)\n",
    "    text.insert(END, value)\n",
    "\n",
    "\n",
    "def button7():\n",
    "    global value\n",
    "    value = value + \"7\"\n",
    "    text.delete('1.0', END)\n",
    "    text.insert(END, value)\n",
    "\n",
    "\n",
    "def button8():\n",
    "    global value\n",
    "    value = value + \"8\"\n",
    "    text.delete('1.0', END)\n",
    "    text.insert(END, value)\n",
    "\n",
    "\n",
    "def button9():\n",
    "    global value\n",
    "    value = value + \"9\"\n",
    "    text.delete('1.0', END)\n",
    "    text.insert(END, value)\n",
    "\n",
    "\n",
    "def buttonStar():\n",
    "    global value\n",
    "    value = value + \".\"\n",
    "    text.delete('1.0', END)\n",
    "    text.insert(END, value)\n",
    "\n",
    "\n",
    "def buttonDel():\n",
    "    global value\n",
    "    value = value[:-2]\n",
    "    text.delete('1.0', END)\n",
    "    text.insert(END, value)\n",
    "\n",
    "\n",
    "def buttonPlus():\n",
    "    global value\n",
    "    global cal_value\n",
    "    global operator\n",
    "    cal_value = value\n",
    "    value = \"\"\n",
    "    operator = \"plus\"\n",
    "    text.delete('1.0', END)\n",
    "    text.insert(END, value)\n",
    "\n",
    "\n",
    "def buttonMinus():\n",
    "    global value\n",
    "    global cal_value\n",
    "    global operator\n",
    "    cal_value = value\n",
    "    value = \"\"\n",
    "    operator = \"minus\"\n",
    "    text.delete('1.0', END)\n",
    "    text.insert(END, value)\n",
    "\n",
    "def buttonMul():\n",
    "    global value\n",
    "    global cal_value\n",
    "    global operator\n",
    "    cal_value = value\n",
    "    value = \"\"\n",
    "    operator = \"mul\"\n",
    "    text.delete('1.0', END)\n",
    "    text.insert(END, value)\n",
    "\n",
    "def buttonDiv():\n",
    "    global value\n",
    "    global cal_value\n",
    "    global operator\n",
    "    cal_value = value\n",
    "    value = \"\"\n",
    "    operator = \"div\"\n",
    "    text.delete('1.0', END)\n",
    "    text.insert(END, value)\n",
    "\n",
    "def cal() :\n",
    "    global value\n",
    "    global cal_value\n",
    "    global operator\n",
    "\n",
    "    if operator == \"null\" :\n",
    "        text.delete('1.0', END)\n",
    "        text.insert(END, value)\n",
    "        return\n",
    "    elif operator == \"plus\" :\n",
    "        num = float(value) + float(cal_value)\n",
    "        text.delete('1.0', END)\n",
    "        text.insert(END, str(num))\n",
    "    elif operator == \"minus\" :\n",
    "        num = float(cal_value) - float(value)\n",
    "        text.delete('1.0', END)\n",
    "        text.insert(END, str(num))\n",
    "    elif operator == \"mul\" :\n",
    "        num = float(value) * float(cal_value)\n",
    "        text.delete('1.0', END)\n",
    "        text.insert(END, str(num))\n",
    "    elif operator == \"div\" :\n",
    "        num = float(cal_value) / float(value)\n",
    "        text.delete('1.0', END)\n",
    "        text.insert(END, str(num))\n",
    "    cal_value = \"\"\n",
    "    value = \"\"\n",
    "    operator = \"null\"\n",
    "\n",
    "root = Tk()\n",
    "root.title(\"计算器\")\n",
    "root.geometry(\"570x550\")\n",
    "root.resizable(width=True, height=True)\n",
    "text = Text(root)\n",
    "text.grid(row=0, column=0, rowspan=1, columnspan=6)\n",
    "button_0 = Button(root, text=\"0\", command=button0).grid(row=4, column=1)\n",
    "button_1 = Button(root, text=\"1\", command=button1).grid(row=1, column=1)\n",
    "button_2 = Button(root, text=\"2\", command=button2).grid(row=1, column=2)\n",
    "button_3 = Button(root, text=\"3\", command=button3).grid(row=1, column=3)\n",
    "button_4 = Button(root, text=\"4\", command=button4).grid(row=2, column=1)\n",
    "button_5 = Button(root, text=\"5\", command=button5).grid(row=2, column=2)\n",
    "button_6 = Button(root, text=\"6\", command=button6).grid(row=2, column=3)\n",
    "button_7 = Button(root, text=\"7\", command=button7).grid(row=3, column=1)\n",
    "button_8 = Button(root, text=\"8\", command=button8).grid(row=3, column=2)\n",
    "button_9 = Button(root, text=\"9\", command=button9).grid(row=3, column=3)\n",
    "button_star = Button(root, text=\".\", command=buttonStar).grid(row=4, column=2)\n",
    "button_del = Button(root, text=\"delete\", command=buttonDel).grid(row=4, column=3)\n",
    "button_plus = Button(root, text=\"+\", command=buttonPlus).grid(row=1, column=4)\n",
    "button_minus = Button(root, text=\"-\", command=buttonMinus).grid(row=2, column=4)\n",
    "button_mul = Button(root, text=\"*\", command=buttonMul).grid(row=3, column=4)\n",
    "button_div = Button(root, text=\"/\", command=buttonDiv).grid(row=4, column=4)\n",
    "button_cal = Button(root, text=\"=\", command=cal).grid(row=5, column=1, columnspan=4)\n",
    "\n",
    "mainloop()\n"
   ]
  },
  {
   "cell_type": "markdown",
   "metadata": {},
   "source": [
    "5\\.Ball game:Python's pinball game, which can realize the game function of the keyboard control bottom baffle moving collision ball similar to table tennis game. \n",
    "\n",
    "<div style=\"float:left;\" ><img src=\"img/p5.png\" width=\"200\" height=\"200\" center=\"left\"></div>\n",
    "<div style=\"float:left;\" ><img src=\"img/p6.png\" width=\"200\" height=\"200\" center=\"right\" ></div>\n"
   ]
  },
  {
   "cell_type": "markdown",
   "metadata": {},
   "source": [
    "this is a step:how to install the matplotlib,you can reference this link:https://blog.csdn.net/not_give_up_/article/details/79058272\n",
    "1. Ball Class\n",
    "    draw is responsible for moving Ball\n",
    "    Collision detection, bounce, Ball detection of Paddle \n",
    "2. Paddle Class\n",
    "    draw is responsible for moving Paddle\n",
    "    Collision detection to determine whether or not to continue ,Monitor keyboard events\n",
    "3. main cycle\n",
    "    Drawing the Ball and Paddle"
   ]
  },
  {
   "cell_type": "code",
   "execution_count": null,
   "metadata": {},
   "outputs": [],
   "source": []
  }
 ],
 "metadata": {
  "kernelspec": {
   "display_name": "Python 3",
   "language": "python",
   "name": "python3"
  },
  "language_info": {
   "codemirror_mode": {
    "name": "ipython",
    "version": 3
   },
   "file_extension": ".py",
   "mimetype": "text/x-python",
   "name": "python",
   "nbconvert_exporter": "python",
   "pygments_lexer": "ipython3",
   "version": "3.6.5"
  }
 },
 "nbformat": 4,
 "nbformat_minor": 2
}
